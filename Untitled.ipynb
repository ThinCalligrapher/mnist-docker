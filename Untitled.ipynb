{
 "cells": [
  {
   "cell_type": "code",
   "execution_count": null,
   "id": "91c19338-a41e-4bfd-a6f5-ac169613433c",
   "metadata": {},
   "outputs": [],
   "source": [
    "import torch\n",
    "import torch.nn as nn\n",
    "\n",
    "class TwoLayer(nn.Module):\n",
    "    def __init__(self):\n",
    "        super().__init__():\n",
    "        self.fc1 = nn.Linear(2, 8) # in features = 2, out into hidden = 8\n",
    "        self.act = nn.ReLU()       # activation is also a module\n",
    "        self.fc2 = nn.Linear(8, 1) # hidden 8 into out 1\n",
    "\n",
    "    def forward(self, x):\n",
    "        x = self.fc1(x) # first layer\n",
    "        x = self.act(x)\n",
    "        x = self.fc2(x)\n",
    "        return x\n",
    "\n",
    "    "
   ]
  }
 ],
 "metadata": {
  "kernelspec": {
   "display_name": "Python 3 (ipykernel)",
   "language": "python",
   "name": "python3"
  },
  "language_info": {
   "codemirror_mode": {
    "name": "ipython",
    "version": 3
   },
   "file_extension": ".py",
   "mimetype": "text/x-python",
   "name": "python",
   "nbconvert_exporter": "python",
   "pygments_lexer": "ipython3",
   "version": "3.12.3"
  }
 },
 "nbformat": 4,
 "nbformat_minor": 5
}
