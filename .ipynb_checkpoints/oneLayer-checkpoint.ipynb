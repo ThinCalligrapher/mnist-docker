{
 "cells": [
  {
   "cell_type": "code",
   "execution_count": 1,
   "id": "086a1f73-16af-4f91-a037-ffa59827f6b5",
   "metadata": {},
   "outputs": [],
   "source": [
    "# lets go over the matplotlib and go from there"
   ]
  },
  {
   "cell_type": "code",
   "execution_count": 2,
   "id": "b6040d53-b681-4a2b-b5d5-d49c25ff6fda",
   "metadata": {},
   "outputs": [],
   "source": [
    "import matplotlib.pyplot as plt"
   ]
  },
  {
   "cell_type": "code",
   "execution_count": 3,
   "id": "7d17f4a0-7194-4414-8230-aa7355580f7a",
   "metadata": {},
   "outputs": [],
   "source": [
    "import pandas as pd\n",
    "import numpy as np"
   ]
  },
  {
   "cell_type": "code",
   "execution_count": 4,
   "id": "05ddd9d7-3b5a-4f51-be1c-a8ebbd3118f0",
   "metadata": {},
   "outputs": [],
   "source": [
    "# lets make some synthetic data in a dataframe with pandas\n",
    "a = np.random.uniform(0, 100, 100)\n",
    "df = pd.DataFrame({\n",
    "    'a': a,\n",
    "    'b': a * 2.5 + 7 + np.random.randint(-20, 20, 100)\n",
    "})\n",
    "    "
   ]
  },
  {
   "cell_type": "code",
   "execution_count": 9,
   "id": "9beea245-f921-48c6-a8d6-b6a1d52c366f",
   "metadata": {},
   "outputs": [
    {
     "data": {
      "text/plain": [
       "Text(0.5, 1.0, 'synthetic data from memory')"
      ]
     },
     "execution_count": 9,
     "metadata": {},
     "output_type": "execute_result"
    },
    {
     "data": {
      "image/png": "[encoded data removed]",
      "text/plain": [
       "<Figure size 640x480 with 1 Axes>"
      ]
     },
     "metadata": {},
     "output_type": "display_data"
    }
   ],
   "source": [
    "plt.scatter(df['a'], df['b'], color='blue', alpha=.7)\n",
    "plt.xlabel('a')\n",
    "plt.ylabel('b')\n",
    "plt.title('synthetic data from memory')"
   ]
  },
  {
   "cell_type": "code",
   "execution_count": 7,
   "id": "6e9eb7c8-4df7-46d7-bf20-969845a66c30",
   "metadata": {},
   "outputs": [],
   "source": [
    "# nice. we are here. lets for fun try to use this data for training a linear model with pytorch"
   ]
  },
  {
   "cell_type": "code",
   "execution_count": 92,
   "id": "b9c5115d-55d5-4cbc-9c74-ba6681819ab6",
   "metadata": {},
   "outputs": [],
   "source": [
    "import torch\n",
    "import torch.nn as nn"
   ]
  },
  {
   "cell_type": "code",
   "execution_count": 93,
   "id": "b331fc7c-4fa2-4a67-be81-f6d7bd4b6f39",
   "metadata": {},
   "outputs": [
    {
     "data": {
      "text/plain": [
       "tensor([[93.4678],\n",
       "        [26.3384],\n",
       "        [72.4385],\n",
       "        [24.2187],\n",
       "        [54.9231],\n",
       "        [75.6446],\n",
       "        [22.6241],\n",
       "        [63.0094],\n",
       "        [87.3984],\n",
       "        [36.6275],\n",
       "        [66.3321],\n",
       "        [31.2368],\n",
       "        [62.3230],\n",
       "        [53.3241],\n",
       "        [34.5856],\n",
       "        [81.5452],\n",
       "        [70.3001],\n",
       "        [16.6101],\n",
       "        [63.4428],\n",
       "        [80.8443],\n",
       "        [28.9234],\n",
       "        [41.6708],\n",
       "        [95.1033],\n",
       "        [50.5851],\n",
       "        [64.6746],\n",
       "        [36.8816],\n",
       "        [87.1423],\n",
       "        [88.5653],\n",
       "        [75.4292],\n",
       "        [76.0973],\n",
       "        [33.5832],\n",
       "        [98.0275],\n",
       "        [72.3353],\n",
       "        [62.1950],\n",
       "        [56.4299],\n",
       "        [75.9949],\n",
       "        [63.3922],\n",
       "        [39.8225],\n",
       "        [96.8465],\n",
       "        [93.7234],\n",
       "        [34.6073],\n",
       "        [67.1321],\n",
       "        [47.6335],\n",
       "        [41.0814],\n",
       "        [32.6018],\n",
       "        [98.1107],\n",
       "        [56.2138],\n",
       "        [17.9000],\n",
       "        [28.0622],\n",
       "        [30.4752],\n",
       "        [29.1168],\n",
       "        [97.8390],\n",
       "        [ 4.9660],\n",
       "        [79.9766],\n",
       "        [91.6429],\n",
       "        [ 0.1172],\n",
       "        [96.0420],\n",
       "        [25.6898],\n",
       "        [91.3544],\n",
       "        [62.6383],\n",
       "        [15.7543],\n",
       "        [38.1401],\n",
       "        [68.5024],\n",
       "        [ 6.9668],\n",
       "        [57.9257],\n",
       "        [87.4782],\n",
       "        [98.6477],\n",
       "        [74.5109],\n",
       "        [46.0664],\n",
       "        [16.7425],\n",
       "        [ 7.8445],\n",
       "        [97.4828],\n",
       "        [73.1444],\n",
       "        [26.6927],\n",
       "        [ 0.1260],\n",
       "        [54.1019],\n",
       "        [91.5658],\n",
       "        [ 4.8696],\n",
       "        [20.1539],\n",
       "        [76.0144],\n",
       "        [32.1041],\n",
       "        [97.5434],\n",
       "        [64.9945],\n",
       "        [49.6786],\n",
       "        [49.7554],\n",
       "        [98.3234],\n",
       "        [ 1.7219],\n",
       "        [95.2370],\n",
       "        [ 2.4319],\n",
       "        [59.9294],\n",
       "        [63.7866],\n",
       "        [35.6976],\n",
       "        [ 7.6737],\n",
       "        [25.9933],\n",
       "        [23.7716],\n",
       "        [84.8564],\n",
       "        [25.2387],\n",
       "        [39.3117],\n",
       "        [38.8360],\n",
       "        [70.5176]], requires_grad=True)"
      ]
     },
     "execution_count": 93,
     "metadata": {},
     "output_type": "execute_result"
    }
   ],
   "source": [
    "t1 = torch.tensor(df['a'].values, dtype=torch.float32).view(-1, 1)\n",
    "t1.requires_grad_()"
   ]
  },
  {
   "cell_type": "code",
   "execution_count": 94,
   "id": "9aa0c7d8-b72d-427e-87a9-2cc120e24e7b",
   "metadata": {},
   "outputs": [
    {
     "data": {
      "text/plain": [
       "tensor([[244.6696],\n",
       "        [ 71.8461],\n",
       "        [197.0962],\n",
       "        [ 53.5468],\n",
       "        [160.3078],\n",
       "        [209.1115],\n",
       "        [ 53.5603],\n",
       "        [154.5235],\n",
       "        [237.4960],\n",
       "        [116.5686],\n",
       "        [161.8304],\n",
       "        [ 74.0921],\n",
       "        [166.8074],\n",
       "        [128.3103],\n",
       "        [ 73.4640],\n",
       "        [226.8630],\n",
       "        [186.7503],\n",
       "        [ 63.5253],\n",
       "        [150.6071],\n",
       "        [210.1109],\n",
       "        [ 86.3085],\n",
       "        [ 98.1770],\n",
       "        [257.7582],\n",
       "        [136.4627],\n",
       "        [180.6865],\n",
       "        [ 92.2039],\n",
       "        [229.8558],\n",
       "        [215.4132],\n",
       "        [183.5729],\n",
       "        [199.2431],\n",
       "        [ 73.9581],\n",
       "        [264.0686],\n",
       "        [172.8383],\n",
       "        [176.4875],\n",
       "        [155.0748],\n",
       "        [190.9872],\n",
       "        [164.4805],\n",
       "        [ 90.5563],\n",
       "        [254.1161],\n",
       "        [228.3086],\n",
       "        [111.5183],\n",
       "        [187.8302],\n",
       "        [122.0838],\n",
       "        [112.7036],\n",
       "        [ 82.5046],\n",
       "        [235.2768],\n",
       "        [147.5344],\n",
       "        [ 32.7500],\n",
       "        [ 57.1554],\n",
       "        [ 94.1881],\n",
       "        [ 71.7921],\n",
       "        [232.5975],\n",
       "        [ 18.4151],\n",
       "        [218.9415],\n",
       "        [235.1072],\n",
       "        [  6.2930],\n",
       "        [227.1050],\n",
       "        [ 54.2245],\n",
       "        [245.3861],\n",
       "        [155.5958],\n",
       "        [ 39.3858],\n",
       "        [108.3502],\n",
       "        [172.2561],\n",
       "        [ 10.4171],\n",
       "        [156.8142],\n",
       "        [238.6954],\n",
       "        [259.6192],\n",
       "        [199.2772],\n",
       "        [127.1661],\n",
       "        [ 34.8562],\n",
       "        [ 17.6112],\n",
       "        [240.7070],\n",
       "        [200.8611],\n",
       "        [ 60.7317],\n",
       "        [  8.3149],\n",
       "        [139.2548],\n",
       "        [232.9144],\n",
       "        [ 30.1739],\n",
       "        [ 57.3847],\n",
       "        [210.0359],\n",
       "        [ 74.2602],\n",
       "        [248.8586],\n",
       "        [173.4863],\n",
       "        [118.1966],\n",
       "        [139.3884],\n",
       "        [248.8085],\n",
       "        [ -2.6953],\n",
       "        [260.0926],\n",
       "        [ -3.9204],\n",
       "        [151.8236],\n",
       "        [184.4665],\n",
       "        [ 81.2440],\n",
       "        [  8.1842],\n",
       "        [ 75.9833],\n",
       "        [ 50.4291],\n",
       "        [234.1410],\n",
       "        [ 50.0968],\n",
       "        [102.2792],\n",
       "        [115.0900],\n",
       "        [179.2939]], requires_grad=True)"
      ]
     },
     "execution_count": 94,
     "metadata": {},
     "output_type": "execute_result"
    }
   ],
   "source": [
    "t2 = torch.tensor(df['b'].values, dtype=torch.float32).view(-1, 1)\n",
    "t2.requires_grad_()"
   ]
  },
  {
   "cell_type": "code",
   "execution_count": 95,
   "id": "e0308bb9-a9dd-4ecc-8b5e-62176c0078ae",
   "metadata": {},
   "outputs": [],
   "source": [
    "model = nn.Linear(in_features=1, out_features=1)"
   ]
  },
  {
   "cell_type": "code",
   "execution_count": 96,
   "id": "3928c0e5-eae8-4f23-96a1-4dd902249799",
   "metadata": {},
   "outputs": [],
   "source": [
    "loss_fn = nn.MSELoss()"
   ]
  },
  {
   "cell_type": "code",
   "execution_count": 97,
   "id": "0dc450da-ff93-4003-87ec-acfc9ffc0edf",
   "metadata": {},
   "outputs": [],
   "source": [
    "opt = torch.optim.SGD(model.parameters(), lr=.0001)"
   ]
  },
  {
   "cell_type": "code",
   "execution_count": 98,
   "id": "e091e2d3-7ceb-443a-9b95-ed1cd73ae5f5",
   "metadata": {},
   "outputs": [],
   "source": [
    "epochs = 2000"
   ]
  },
  {
   "cell_type": "code",
   "execution_count": 99,
   "id": "78f9da8c-b465-4266-ad7b-80c2aae47a93",
   "metadata": {},
   "outputs": [
    {
     "data": {
      "text/plain": [
       "torch.Size([100, 1])"
      ]
     },
     "execution_count": 99,
     "metadata": {},
     "output_type": "execute_result"
    }
   ],
   "source": [
    "t1.shape"
   ]
  },
  {
   "cell_type": "code",
   "execution_count": 100,
   "id": "ea5589f2-eb19-45ac-b0f2-40e7c9805b90",
   "metadata": {},
   "outputs": [
    {
     "name": "stdout",
     "output_type": "stream",
     "text": [
      "worked\n",
      "2.036809206008911\n",
      "worked\n",
      "2.5987229347229004\n",
      "worked\n",
      "2.5988290309906006\n",
      "worked\n",
      "2.5989344120025635\n",
      "worked\n",
      "2.59903883934021\n",
      "worked\n",
      "2.59914231300354\n",
      "worked\n",
      "2.5992448329925537\n",
      "worked\n",
      "2.599346399307251\n",
      "worked\n",
      "2.599447011947632\n",
      "worked\n",
      "2.5995469093322754\n"
     ]
    }
   ],
   "source": [
    "for epoch in range(epochs):\n",
    "    pred = model(t1)\n",
    "    loss = loss_fn(pred, t2)\n",
    "    opt.zero_grad()\n",
    "    loss.backward()\n",
    "    opt.step()\n",
    "\n",
    "    if epoch % 200 == 0:\n",
    "        print('worked')\n",
    "        print(model.weight.item())\n",
    "        "
   ]
  },
  {
   "cell_type": "code",
   "execution_count": 101,
   "id": "8ebc93ab-c67e-42dc-aac6-2c8dfca1ef01",
   "metadata": {},
   "outputs": [
    {
     "data": {
      "text/plain": [
       "0.07304712384939194"
      ]
     },
     "execution_count": 101,
     "metadata": {},
     "output_type": "execute_result"
    }
   ],
   "source": [
    "model.bias.item()"
   ]
  },
  {
   "cell_type": "code",
   "execution_count": 102,
   "id": "ea3a3688-61ed-4482-9074-eaf2bb48d54e",
   "metadata": {},
   "outputs": [],
   "source": [
    "t3 = torch.tensor([[5.0]], requires_grad=True)"
   ]
  },
  {
   "cell_type": "code",
   "execution_count": 103,
   "id": "eb6b84a4-2abf-4da9-a086-d1065942fada",
   "metadata": {},
   "outputs": [
    {
     "data": {
      "text/plain": [
       "tensor([[13.0713]], grad_fn=<AddmmBackward0>)"
      ]
     },
     "execution_count": 103,
     "metadata": {},
     "output_type": "execute_result"
    }
   ],
   "source": [
    "model(t3)"
   ]
  },
  {
   "cell_type": "code",
   "execution_count": 110,
   "id": "b90ce7e5-f41b-47cc-a26b-4c217ed6fc70",
   "metadata": {},
   "outputs": [],
   "source": [
    "output = []\n",
    "for i in range(len(t1)):\n",
    "    output.append(t1[i])"
   ]
  },
  {
   "cell_type": "code",
   "execution_count": 112,
   "id": "effd50c5-2221-4083-b111-ee376794cf0c",
   "metadata": {},
   "outputs": [],
   "source": [
    "real = []\n",
    "for i in range(len(t1)):\n",
    "    real.append(model(t1[i]))"
   ]
  },
  {
   "cell_type": "code",
   "execution_count": 117,
   "id": "1f8040a3-aea4-4576-9ada-7699deeec2f1",
   "metadata": {},
   "outputs": [
    {
     "ename": "AttributeError",
     "evalue": "'builtin_function_or_method' object has no attribute 'numpy'",
     "output_type": "error",
     "traceback": [
      "\u001b[31m---------------------------------------------------------------------------\u001b[39m",
      "\u001b[31mAttributeError\u001b[39m                            Traceback (most recent call last)",
      "\u001b[36mCell\u001b[39m\u001b[36m \u001b[39m\u001b[32mIn[117]\u001b[39m\u001b[32m, line 1\u001b[39m\n\u001b[32m----> \u001b[39m\u001b[32m1\u001b[39m \u001b[43mt1\u001b[49m\u001b[43m.\u001b[49m\u001b[43mdetach\u001b[49m\u001b[43m.\u001b[49m\u001b[43mnumpy\u001b[49m()\n\u001b[32m      2\u001b[39m plt.scatter(output, real, color=\u001b[33m'\u001b[39m\u001b[33mblue\u001b[39m\u001b[33m'\u001b[39m, alpha=\u001b[32m.7\u001b[39m)\n",
      "\u001b[31mAttributeError\u001b[39m: 'builtin_function_or_method' object has no attribute 'numpy'"
     ]
    }
   ],
   "source": [
    "t1.detach.numpy()\n",
    "plt.scatter(output, real, color='blue', alpha=.7)"
   ]
  },
  {
   "cell_type": "code",
   "execution_count": null,
   "id": "12e79cc6-154e-4fe7-905f-b29d88d5614b",
   "metadata": {},
   "outputs": [],
   "source": []
  }
 ],
 "metadata": {
  "kernelspec": {
   "display_name": "Python 3 (ipykernel)",
   "language": "python",
   "name": "python3"
  },
  "language_info": {
   "codemirror_mode": {
    "name": "ipython",
    "version": 3
   },
   "file_extension": ".py",
   "mimetype": "text/x-python",
   "name": "python",
   "nbconvert_exporter": "python",
   "pygments_lexer": "ipython3",
   "version": "3.12.3"
  }
 },
 "nbformat": 4,
 "nbformat_minor": 5
}
