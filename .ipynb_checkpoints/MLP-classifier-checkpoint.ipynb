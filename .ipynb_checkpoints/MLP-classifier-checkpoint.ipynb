{
 "cells": [
  {
   "cell_type": "code",
   "execution_count": 3,
   "id": "1b746e3f-d120-4136-a2fb-52384721e3ef",
   "metadata": {},
   "outputs": [],
   "source": [
    "import torch\n",
    "import torch.nn as nn\n",
    "from torchvision import datasets, transforms\n",
    "import matplotlib.pyplot as plt\n",
    "from pathlib import Path\n",
    "from torch.utils.data import DataLoader"
   ]
  },
  {
   "cell_type": "code",
   "execution_count": 4,
   "id": "cd21763d-f98a-4773-90ce-7a33579fc79c",
   "metadata": {},
   "outputs": [],
   "source": [
    "path = Path(\"./data\")"
   ]
  },
  {
   "cell_type": "code",
   "execution_count": 5,
   "id": "64dc1216-38d4-4e06-99c3-11604cb016fb",
   "metadata": {},
   "outputs": [
    {
     "name": "stderr",
     "output_type": "stream",
     "text": [
      "100.0%\n",
      "100.0%\n",
      "100.0%\n",
      "100.0%\n"
     ]
    }
   ],
   "source": [
    "data = datasets.MNIST(path, download=True)\n",
    "# if you run this locally you will download 70,000 images!!!!!!!"
   ]
  },
  {
   "cell_type": "code",
   "execution_count": 5,
   "id": "cc9f46b7-dba8-4caf-8203-373871ae0bc4",
   "metadata": {},
   "outputs": [],
   "source": [
    "transform = transforms.Compose([\n",
    "    transforms.ToTensor(),\n",
    "    transforms.Normalize((.5,), (.5,))\n",
    "])\n",
    "\n",
    "# transforms our data with transform(x)\n",
    "# ToTensor takes our data(in this case pixel values from 0 - 255) and converts it to a Tensor with values from 0 - 1.0\n",
    "# Normalize takes 2 tuples, and does (x - t1) / t2 then passes the data\n",
    "# we get this from torchvision, specifically the torchvision.transforms.Compose library, which will take our data and sequentially transfrom it to fit a model"
   ]
  },
  {
   "cell_type": "code",
   "execution_count": 6,
   "id": "805aa61e-3f18-4200-acd7-b662e6ff8c13",
   "metadata": {},
   "outputs": [],
   "source": [
    "train_dataset = datasets.MNIST(root=\"./data\", train=True, transform=transform)\n",
    "test_dataset = datasets.MNIST(root=\"./data\", train=False, transform=transform)\n",
    "\n",
    "\n",
    "train_loader = DataLoader(train_dataset, batch_size=64, shuffle=True)\n",
    "test_loader = DataLoader(test_dataset, batch_size=64, shuffle=False)"
   ]
  },
  {
   "cell_type": "code",
   "execution_count": null,
   "id": "b078146c-5136-42fb-815f-548bc03847b6",
   "metadata": {},
   "outputs": [],
   "source": []
  },
  {
   "cell_type": "code",
   "execution_count": 7,
   "id": "5ea50eb6-7652-4c4f-be47-4031ddf27ded",
   "metadata": {},
   "outputs": [
    {
     "name": "stdout",
     "output_type": "stream",
     "text": [
      "torch.Size([64, 1, 28, 28])\n",
      "torch.Size([64])\n"
     ]
    },
    {
     "data": {
      "image/png": "[encoded data removed]",
      "text/plain": [
       "<Figure size 640x480 with 1 Axes>"
      ]
     },
     "metadata": {},
     "output_type": "display_data"
    }
   ],
   "source": [
    "images, labels = next(iter(train_loader))\n",
    "print(images.shape)\n",
    "print(labels.shape)\n",
    "\n",
    "plt.imshow(images[0].squeeze(), cmap=\"gray\")\n",
    "plt.title(f\"Label: {labels[0].item()}\")\n",
    "plt.show()"
   ]
  },
  {
   "cell_type": "code",
   "execution_count": 8,
   "id": "2eedb7d3-a47c-4483-a70d-86e00b325325",
   "metadata": {},
   "outputs": [],
   "source": [
    "# now on to the model class"
   ]
  },
  {
   "cell_type": "code",
   "execution_count": 9,
   "id": "97e58b25-8296-4bf3-acd8-bb8ddc6a0c3c",
   "metadata": {},
   "outputs": [],
   "source": [
    "class DigitClassifier(nn.Module):\n",
    "    def __init__(self):\n",
    "        super().__init__()\n",
    "        self.net = nn.Sequential(\n",
    "            nn.Flatten(),   # takes the 28x28 image into [784]\n",
    "            nn.Linear(28*28, 128),\n",
    "            nn.ReLU(), # first non linear layer\n",
    "            nn.Linear(128, 64),\n",
    "            nn.ReLU(), # second non linear layer\n",
    "            nn.Linear(64, 10)    # output of 10 classes\n",
    "        )\n",
    "    def forward(self, x):\n",
    "        return self.net(x)"
   ]
  },
  {
   "cell_type": "code",
   "execution_count": 10,
   "id": "d2bb53cd-a24a-41b2-b1f3-2a5a59c5d626",
   "metadata": {},
   "outputs": [
    {
     "name": "stdout",
     "output_type": "stream",
     "text": [
      "DigitClassifier(\n",
      "  (net): Sequential(\n",
      "    (0): Flatten(start_dim=1, end_dim=-1)\n",
      "    (1): Linear(in_features=784, out_features=128, bias=True)\n",
      "    (2): ReLU()\n",
      "    (3): Linear(in_features=128, out_features=64, bias=True)\n",
      "    (4): ReLU()\n",
      "    (5): Linear(in_features=64, out_features=10, bias=True)\n",
      "  )\n",
      ")\n"
     ]
    }
   ],
   "source": [
    "# now instantiate the model\n",
    "model = DigitClassifier()\n",
    "print(model)"
   ]
  },
  {
   "cell_type": "code",
   "execution_count": 11,
   "id": "45f84828-d558-464c-ba9c-75b43734d6cd",
   "metadata": {},
   "outputs": [],
   "source": [
    "# now define loss function and hyperparameters\n",
    "# due to our output being a vector or scores, we need to use CEL\n",
    "# this will turn out outputs into a probability distribution\n",
    "# via Softmax\n",
    "\n",
    "loss_fn = nn.CrossEntropyLoss()"
   ]
  },
  {
   "cell_type": "code",
   "execution_count": 12,
   "id": "37aad0c9-5c6b-491e-883b-d8d707baf416",
   "metadata": {},
   "outputs": [],
   "source": [
    "# we will use Adam due to its dynamic learning rate, and it\n",
    "# will keep us out of local minimums due to a term in the denominator of the gradient equation (look more into this)\n",
    "optimizer = torch.optim.Adam(model.parameters(), lr=.001)"
   ]
  },
  {
   "cell_type": "code",
   "execution_count": 13,
   "id": "64bd83b9-97c2-4f81-b3d6-07905db83f62",
   "metadata": {},
   "outputs": [],
   "source": [
    "epochs = 5"
   ]
  },
  {
   "cell_type": "code",
   "execution_count": 15,
   "id": "e804c34b-c34b-4b4b-9427-7da20251ec31",
   "metadata": {},
   "outputs": [
    {
     "name": "stdout",
     "output_type": "stream",
     "text": [
      "Epoch 1, Loss: 0.0853\n",
      "Test Accuracy: 96.85%\n",
      "Epoch 2, Loss: 0.0741\n",
      "Test Accuracy: 97.14%\n",
      "Epoch 3, Loss: 0.0668\n",
      "Test Accuracy: 97.03%\n",
      "Epoch 4, Loss: 0.0618\n",
      "Test Accuracy: 97.18%\n",
      "Epoch 5, Loss: 0.0540\n",
      "Test Accuracy: 97.46%\n"
     ]
    }
   ],
   "source": [
    "for epoch in range(epochs):\n",
    "    model.train() # place model in training mode\n",
    "    total_loss = 0\n",
    "\n",
    "    for images, labels in train_loader:\n",
    "        # forward pass\n",
    "        outputs = model(images) # shape of [64, 10] due to data being fed via the loader\n",
    "        loss = loss_fn(outputs, labels)\n",
    "\n",
    "        # backwards and optimize\n",
    "        optimizer.zero_grad()\n",
    "        loss.backward()\n",
    "        optimizer.step()\n",
    "\n",
    "        total_loss += loss.item()\n",
    "    avg_loss = total_loss / len(train_loader)\n",
    "    print(f\"Epoch {epoch+1}, Loss: {avg_loss:.4f}\")\n",
    "\n",
    "    # evaluation\n",
    "    model.eval() # set to eval mode\n",
    "    correct = 0\n",
    "    total = 0\n",
    "    with torch.no_grad(): # no gradients for testing\n",
    "        for images, labels in test_loader:\n",
    "            outputs = model(images)\n",
    "            _, predicted = torch.max(outputs, 1) # pick highest score class\n",
    "            total += labels.size(0)\n",
    "            correct += (predicted == labels).sum().item()\n",
    "    acc = 100 * correct / total\n",
    "    print(f\"Test Accuracy: {acc:.2f}%\")"
   ]
  },
  {
   "cell_type": "code",
   "execution_count": null,
   "id": "c483a448-209e-4167-b96d-575c641c2634",
   "metadata": {},
   "outputs": [],
   "source": [
    "# explanation of the architecture\n",
    "# \n",
    "#    \n",
    "#    \n",
    "#        \n",
    "#        \n",
    "#    \n",
    "#        "
   ]
  },
  {
   "cell_type": "markdown",
   "id": "ae344d00-c428-4738-9c78-b01ad74569fa",
   "metadata": {},
   "source": [
    "# Explanation of the architecture\n",
    "---\n",
    "### This is a feedforward multi-layer perceptron (MLP) neural network\n",
    "1. we start by flattening the data (turning a 2D image into a line)\n",
    "2. the first layer is a linear layer, where we take the 784 data points and connect them to 128 neurons, each with their own weight and bias\n",
    "    - this has 784*128 + 128 parameters (weights and biases)\n",
    "3. The ReLU is the first non linear layer, which lets our network learn complex decision boundaries\n",
    "4. The second linear layer goes from 128 to 64 units, giving us more depth and ability to detect features\n",
    "    - this layer has 128 * 64 + 64 parameters\n",
    "5. The second ReLU, for more nonlinearity\n",
    "6. The Output layer, taking us from 64 units to 10. Each of these 10 units are a \"raw\" score for our numbers 0-9\n",
    "    - Softmax takes these and assigns a probability inside of our loss function (CLE)\n",
    "  \n",
    "- The first layer learns low level patterns (strokes, edges)\n",
    "- The second Linear layer learns higher level ideas like loops, shapes, and corners\n",
    "\n",
    "### In the backpropegation and optimization, each one of these parameters is differentiated and its gradient is found. Adam will change our parameter learning rates depending on momentum (how fast we are approaching \"correct\").\n",
    "\n",
    "## Why do we have train_loader and test_loader?\n",
    "- This is because MNIST is a dataset of 70,000 images. We cannot pass all of the images at once, so we need to feed them into our model slowly. Our batch size in this instance was 64 images.\n",
    "- We have a training data set of 60,000 images, and our test dataset is 10,000. These must be kept separate so we do not train our model with images that we test its accuracy.\n",
    "\n",
    "\n",
    "# How to take this further\n",
    "- Create a classifier to classify images in the real world (background challenges, noise)\n",
    "- Use a convolutional neural network\n"
   ]
  },
  {
   "cell_type": "code",
   "execution_count": null,
   "id": "48ad947d-54eb-4df6-b014-40063dfcc844",
   "metadata": {},
   "outputs": [],
   "source": []
  }
 ],
 "metadata": {
  "kernelspec": {
   "display_name": "Python (jupyterenv)",
   "language": "python",
   "name": "jupyterenv"
  },
  "language_info": {
   "codemirror_mode": {
    "name": "ipython",
    "version": 3
   },
   "file_extension": ".py",
   "mimetype": "text/x-python",
   "name": "python",
   "nbconvert_exporter": "python",
   "pygments_lexer": "ipython3",
   "version": "3.12.3"
  }
 },
 "nbformat": 4,
 "nbformat_minor": 5
}
