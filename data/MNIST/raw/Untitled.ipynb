{
 "cells": [
  {
   "cell_type": "code",
   "execution_count": 1,
   "id": "971033fa-5f33-4f44-9ca6-9c4be1b8c48a",
   "metadata": {},
   "outputs": [],
   "source": [
    "# lets go and just type out what I remember from the model I did yesterday\n",
    "# we took the data from the mnist\n",
    "#import numpy? torch torch.nn torch datasets dataloader matplotlib.pyplot and Path from pathlib\n",
    "\n",
    "# train_loader = torch.data_loader(path_to_data, batch size, train=True)\n",
    "# same with the batch loader"
   ]
  },
  {
   "cell_type": "code",
   "execution_count": 20,
   "id": "0845f322-b128-4927-a8cb-557aaca1eb69",
   "metadata": {},
   "outputs": [],
   "source": [
    "import torch\n",
    "import torch.nn as nn\n",
    "from torchvision import datasets, transforms\n",
    "from torch.utils.data import DataLoader\n",
    "import matplotlib.pyplot as plt\n",
    "from pathlib import Path\n",
    "\n",
    "class MyModel(nn.Module):\n",
    "    def __init__(self):\n",
    "        super().__init__()\n",
    "        self.net = nn.Sequential(\n",
    "            nn.Flatten(),\n",
    "            nn.Linear(28*28, 128),\n",
    "            nn.ReLU(),\n",
    "            nn.Linear(128, 64),\n",
    "            nn.ReLU(),\n",
    "            nn.Linear(64, 10)\n",
    "        )\n",
    "\n",
    "    def forward(self, x):\n",
    "        return self.net(x)\n",
    "    "
   ]
  },
  {
   "cell_type": "code",
   "execution_count": 21,
   "id": "349e0b01-fd39-4857-8272-2d19155a7399",
   "metadata": {},
   "outputs": [],
   "source": [
    "model = MyModel()"
   ]
  },
  {
   "cell_type": "code",
   "execution_count": 22,
   "id": "d7e3abfe-651e-4063-a518-65f74a57f0b6",
   "metadata": {},
   "outputs": [],
   "source": [
    "loss_fn = nn.CrossEntropyLoss()\n",
    "optimizer = torch.optim.Adam(model.parameters(), lr=.001)"
   ]
  },
  {
   "cell_type": "code",
   "execution_count": 23,
   "id": "3db4b2c7-97d4-4d04-b0ac-25b320705186",
   "metadata": {},
   "outputs": [],
   "source": [
    "#model.net[2].weight\n",
    "\n",
    "path = Path(\"./newdata\")"
   ]
  },
  {
   "cell_type": "code",
   "execution_count": 24,
   "id": "0aae5084-2533-4f4e-9238-f93ddc99fcaa",
   "metadata": {},
   "outputs": [
    {
     "name": "stderr",
     "output_type": "stream",
     "text": [
      "100.0%\n",
      "100.0%\n",
      "100.0%\n",
      "100.0%\n"
     ]
    }
   ],
   "source": [
    "data = datasets.MNIST(path, download=True)"
   ]
  },
  {
   "cell_type": "code",
   "execution_count": 25,
   "id": "1067c2fc-54fc-4e86-b9ba-05f76dd64a24",
   "metadata": {},
   "outputs": [],
   "source": [
    "transform = transforms.Compose([\n",
    "    transforms.ToTensor(),\n",
    "    transforms.Normalize((.5,), (.5))\n",
    "])"
   ]
  },
  {
   "cell_type": "code",
   "execution_count": 26,
   "id": "81ab72d7-1d77-4016-937d-a73e7c45e9f4",
   "metadata": {},
   "outputs": [],
   "source": [
    "train_dataset = datasets.MNIST(root=path, train=True, transform=transform)\n",
    "test_dataset = datasets.MNIST(root=path, train=False, transform=transform)\n",
    "\n",
    "train_loader = DataLoader(train_dataset, batch_size=64, shuffle=True)\n",
    "test_loader = DataLoader(test_dataset, batch_size=64, shuffle=False)"
   ]
  },
  {
   "cell_type": "code",
   "execution_count": null,
   "id": "b4c17ece-73e7-43eb-9579-96feeb1238aa",
   "metadata": {},
   "outputs": [],
   "source": []
  }
 ],
 "metadata": {
  "kernelspec": {
   "display_name": "Python (jupyterenv)",
   "language": "python",
   "name": "jupyterenv"
  },
  "language_info": {
   "codemirror_mode": {
    "name": "ipython",
    "version": 3
   },
   "file_extension": ".py",
   "mimetype": "text/x-python",
   "name": "python",
   "nbconvert_exporter": "python",
   "pygments_lexer": "ipython3",
   "version": "3.12.3"
  }
 },
 "nbformat": 4,
 "nbformat_minor": 5
}
