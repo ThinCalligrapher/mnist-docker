{
 "cells": [
  {
   "cell_type": "code",
   "execution_count": 1,
   "id": "71487189-45c6-44d4-8cf3-e2a63bab16f4",
   "metadata": {},
   "outputs": [],
   "source": [
    "import torch\n",
    "import torch.nn as nn\n",
    "\n",
    "class TinyModel(nn.Module):\n",
    "    def __init__(self):\n",
    "        super().__init__() # initialize parent nn.Module\n",
    "        self.fc = nn.Linear(1, 1) # single layer y=w*x+b\n",
    "\n",
    "    def forward(self, x):\n",
    "        return self.fc(x) # defines how data flows\n",
    "\n",
    "# 1: Import modules needed\n",
    "# 2: Define your model class, and pass its parent class\n",
    "# 3: Initialize and create the layers under the init\n",
    "# 4: Define your forward function"
   ]
  },
  {
   "cell_type": "code",
   "execution_count": 2,
   "id": "a66ab8ae-eb65-4100-838b-dafce30432dc",
   "metadata": {},
   "outputs": [
    {
     "name": "stdout",
     "output_type": "stream",
     "text": [
      "Prediction: -1.2907038927078247\n"
     ]
    }
   ],
   "source": [
    "model = TinyModel()\n",
    "x = torch.tensor([[2.0]])\n",
    "y_hat = model(x)\n",
    "print(\"Prediction:\", y_hat.item())"
   ]
  },
  {
   "cell_type": "code",
   "execution_count": 4,
   "id": "4cd27748-62b5-4263-b458-cb33e25a4e24",
   "metadata": {},
   "outputs": [
    {
     "data": {
      "text/plain": [
       "tensor([[-1.2907]], grad_fn=<AddmmBackward0>)"
      ]
     },
     "execution_count": 4,
     "metadata": {},
     "output_type": "execute_result"
    }
   ],
   "source": [
    "model.forward(x)"
   ]
  },
  {
   "cell_type": "code",
   "execution_count": null,
   "id": "36c71fac-ffb9-45a6-9ddc-8265ffed3235",
   "metadata": {},
   "outputs": [],
   "source": []
  }
 ],
 "metadata": {
  "kernelspec": {
   "display_name": "Python 3 (ipykernel)",
   "language": "python",
   "name": "python3"
  },
  "language_info": {
   "codemirror_mode": {
    "name": "ipython",
    "version": 3
   },
   "file_extension": ".py",
   "mimetype": "text/x-python",
   "name": "python",
   "nbconvert_exporter": "python",
   "pygments_lexer": "ipython3",
   "version": "3.12.3"
  }
 },
 "nbformat": 4,
 "nbformat_minor": 5
}
